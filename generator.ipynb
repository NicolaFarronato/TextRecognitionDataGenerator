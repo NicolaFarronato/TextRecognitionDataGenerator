{
 "cells": [
  {
   "attachments": {},
   "cell_type": "markdown",
   "metadata": {},
   "source": [
    "IMAGE GENERATOR"
   ]
  },
  {
   "cell_type": "code",
   "execution_count": 1,
   "metadata": {},
   "outputs": [
    {
     "name": "stdout",
     "output_type": "stream",
     "text": [
      "Missing modules for handwritten text generation.\n"
     ]
    },
    {
     "name": "stderr",
     "output_type": "stream",
     "text": [
      " 36%|███▌      | 36/100 [00:00<00:00, 73.48it/s]"
     ]
    },
    {
     "name": "stdout",
     "output_type": "stream",
     "text": [
      "immagine con width 1116 troppo lunga o non in inglese. Il counter è 7\n",
      "immagine con width 1139 troppo lunga o non in inglese. Il counter è 7\n"
     ]
    },
    {
     "name": "stderr",
     "output_type": "stream",
     "text": [
      "5050it [00:07, 718.30it/s]                       \n"
     ]
    }
   ],
   "source": [
    "import sys\n",
    "sys.path.append(\"trdg\")\n",
    "import numpy as np\n",
    "import re\n",
    "from generator_helper import GeneratePoisonedSamples\n",
    "\n",
    "from trdg.generators import (\n",
    "    GeneratorFromDict,\n",
    "    GeneratorFromRandom,\n",
    "    GeneratorFromStrings,\n",
    "    GeneratorFromWikipedia,\n",
    ")\n",
    "\n",
    "# The generators use the same arguments as the CLI, only as parameters\n",
    "generator = GeneratorFromStrings( \n",
    "   [\"AAAAAAAAAAAAAAAAAAAAAAAAAaaaaaaAAAAAAAAAAAAAAAAAAAAAAAAAAAAAAAAA\"], #string to render\n",
    "    blur=0.5, \n",
    "    random_blur=True,\n",
    "    #count = 10000,\n",
    "    size = 64,\n",
    "    letters_to_attack=['a'], # you can select one or more letters\n",
    ")\n",
    "\n",
    "\n",
    "\n",
    "save_path = 'tmp'\n",
    "invisible_char = u'\\u200C'\n",
    "number_of_images_to_gen = 100\n",
    "save_poisoned_images = True\n",
    "save_original_images = True\n",
    "save_font = True\n",
    "range_width_out_img = [1500,9000]\n",
    "\n",
    "GeneratePoisonedSamples( generator=generator,\n",
    "                        save_path=save_path,\n",
    "                        invisible_char=invisible_char,\n",
    "                        number_of_images_to_gen=number_of_images_to_gen,\n",
    "                        save_poisoned_images=save_poisoned_images,\n",
    "                        save_original_images=save_original_images,\n",
    "                        save_fonts=save_font,range_width_out_img=range_width_out_img)"
   ]
  }
 ],
 "metadata": {
  "kernelspec": {
   "display_name": "uni-env",
   "language": "python",
   "name": "python3"
  },
  "language_info": {
   "codemirror_mode": {
    "name": "ipython",
    "version": 3
   },
   "file_extension": ".py",
   "mimetype": "text/x-python",
   "name": "python",
   "nbconvert_exporter": "python",
   "pygments_lexer": "ipython3",
   "version": "3.9.16"
  },
  "orig_nbformat": 4,
  "vscode": {
   "interpreter": {
    "hash": "09c6b41491f8b8c34dccac4f49b6347ffec033bdcff017fa081fabd08333875f"
   }
  }
 },
 "nbformat": 4,
 "nbformat_minor": 2
}
